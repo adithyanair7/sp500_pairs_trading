{
 "cells": [
  {
   "cell_type": "markdown",
   "id": "01ec205b",
   "metadata": {},
   "source": [
    "\n",
    "# Factors: Construction and Diagnostics\n",
    "\n",
    "This notebook analyzes the factor dataset produced by `build_factors.py`. The dataset contains daily proxies for systematic influences such as market, value, and momentum exposures. The objective is to confirm stability, distributional properties, and correlations to ensure residual mean-reversion signals are not confounded by latent factor tilts.\n"
   ]
  },
  {
   "cell_type": "code",
   "execution_count": null,
   "id": "6974ddcb",
   "metadata": {},
   "outputs": [],
   "source": [
    "\n",
    "import os, warnings\n",
    "import numpy as np\n",
    "import pandas as pd\n",
    "import matplotlib.pyplot as plt\n",
    "\n",
    "warnings.filterwarnings(\"ignore\")\n",
    "plt.rcParams[\"figure.dpi\"] = 120\n",
    "\n",
    "DATA_DIR = \"/mnt/data\"\n",
    "print(\"Using DATA_DIR =\", DATA_DIR)\n",
    "\n",
    "def annualize_sharpe(returns, periods_per_year=252):\n",
    "    r = pd.Series(returns).dropna()\n",
    "    if len(r) == 0:\n",
    "        return np.nan\n",
    "    mu = r.mean() * periods_per_year\n",
    "    sd = r.std(ddof=0) * np.sqrt(periods_per_year)\n",
    "    return mu / sd if sd != 0 else np.nan\n",
    "\n",
    "def equity_curve(returns):\n",
    "    r = pd.Series(returns).fillna(0.0)\n",
    "    return (1.0 + r).cumprod()\n",
    "\n",
    "def drawdown_curve(equity):\n",
    "    e = pd.Series(equity).astype(float)\n",
    "    peak = e.cummax()\n",
    "    return e/peak - 1.0\n",
    "\n",
    "def infer_returns(daily_df):\n",
    "    ret_col = next((c for c in daily_df.columns if c.lower() in [\"ret\",\"return\",\"strategy_ret\",\"pnl_ret\",\"daily_ret\"]), None)\n",
    "    if ret_col is not None:\n",
    "        return pd.to_numeric(daily_df[ret_col], errors=\"coerce\").fillna(0.0)\n",
    "    eq_col = next((c for c in daily_df.columns if \"equity\" in c.lower() or \"cum\" in c.lower()), None)\n",
    "    if eq_col is not None:\n",
    "        eq = pd.to_numeric(daily_df[eq_col], errors=\"coerce\")\n",
    "        return eq.pct_change().fillna(0.0)\n",
    "    raise ValueError(\"Could not infer returns column.\")\n",
    "\n",
    "def infer_active_positions_per_day(daily_df, trades_df):\n",
    "    pos_col = next((c for c in daily_df.columns if c.lower() in [\"n_positions\",\"positions\",\"positions_live\",\"breadth\"]), None)\n",
    "    if pos_col is not None:\n",
    "        s = pd.to_numeric(daily_df[pos_col], errors=\"coerce\").fillna(0.0)\n",
    "        return s, \"daily\"\n",
    "    if trades_df is not None and not trades_df.empty:\n",
    "        if \"entry_date\" in trades_df.columns and \"exit_date\" in trades_df.columns:\n",
    "            idx = pd.date_range(daily_df[\"date\"].min(), daily_df[\"date\"].max(), freq=\"D\")\n",
    "            active = pd.Series(0, index=idx)\n",
    "            for _, row in trades_df.iterrows():\n",
    "                try:\n",
    "                    start = pd.to_datetime(row[\"entry_date\"]).normalize()\n",
    "                    end = pd.to_datetime(row[\"exit_date\"]).normalize() if not pd.isna(row[\"exit_date\"]) else idx.max()\n",
    "                    if start > idx.max():\n",
    "                        continue\n",
    "                    s = max(start, idx.min())\n",
    "                    e = min(end, idx.max())\n",
    "                    if s <= e:\n",
    "                        active.loc[s:e] += 1\n",
    "                except Exception:\n",
    "                    continue\n",
    "            act = active.reindex(pd.to_datetime(daily_df[\"date\"]).dt.normalize()).fillna(0).astype(int)\n",
    "            act.index = daily_df[\"date\"].values\n",
    "            return act, \"trades\"\n",
    "    return pd.Series(0, index=daily_df[\"date\"]), \"none\"\n",
    "\n",
    "def infer_turnover(daily_df, trades_df, active_positions):\n",
    "    turn_col = next((c for c in daily_df.columns if \"turnover\" in c.lower()), None)\n",
    "    if turn_col is not None:\n",
    "        t = pd.to_numeric(daily_df[turn_col], errors=\"coerce\").fillna(0.0)\n",
    "        return float(t.mean()), \"daily\"\n",
    "    if trades_df is not None and not trades_df.empty and len(active_positions) > 0:\n",
    "        entries = trades_df[\"entry_date\"].dt.normalize().value_counts() if \"entry_date\" in trades_df.columns else pd.Series(dtype=int)\n",
    "        exits = trades_df[\"exit_date\"].dt.normalize().value_counts() if \"exit_date\" in trades_df.columns else pd.Series(dtype=int)\n",
    "        all_days = pd.to_datetime(daily_df[\"date\"]).dt.normalize()\n",
    "        ent = entries.reindex(all_days).fillna(0)\n",
    "        exi = exits.reindex(all_days).fillna(0)\n",
    "        chg = ent.add(exi, fill_value=0)\n",
    "        avg_active = max(active_positions.replace(0, np.nan).mean(skipna=True), 1.0)\n",
    "        approx_daily_turnover = (chg / (2.0 * avg_active)).replace([np.inf, -np.inf], 0).fillna(0.0)\n",
    "        return float(approx_daily_turnover.mean()), \"approx_trades\"\n",
    "    return float(\"nan\"), \"none\"\n"
   ]
  },
  {
   "cell_type": "markdown",
   "id": "a7558dad",
   "metadata": {},
   "source": [
    "## Data Inspection"
   ]
  },
  {
   "cell_type": "code",
   "execution_count": null,
   "id": "b7dd3c04",
   "metadata": {},
   "outputs": [],
   "source": [
    "\n",
    "from caas_jupyter_tools import display_dataframe_to_user\n",
    "fac_path = os.path.join(DATA_DIR, \"factors.csv\")\n",
    "factors = pd.read_csv(fac_path, parse_dates=[\"date\"])\n",
    "print(\"factors.csv shape:\", factors.shape)\n",
    "display_dataframe_to_user(\"factors_head\", factors.head(25))\n"
   ]
  },
  {
   "cell_type": "markdown",
   "id": "eda4967e",
   "metadata": {},
   "source": [
    "## Statistical Properties"
   ]
  },
  {
   "cell_type": "code",
   "execution_count": null,
   "id": "3f0a3783",
   "metadata": {},
   "outputs": [],
   "source": [
    "\n",
    "num = factors.select_dtypes(include=[\"number\"])\n",
    "summary = num.describe().T\n",
    "from caas_jupyter_tools import display_dataframe_to_user\n",
    "display_dataframe_to_user(\"factor_summary\", summary.round(4))\n",
    "corr = num.corr()\n",
    "print(\"Correlation matrix (top-left 10×10):\")\n",
    "print(corr.iloc[:10,:10].round(3))\n"
   ]
  },
  {
   "cell_type": "markdown",
   "id": "f6160cf1",
   "metadata": {},
   "source": [
    "\n",
    "Monitoring factor dynamics provides assurance that mean-reversion profits arise from statistical arbitrage rather than hidden beta exposures.\n"
   ]
  }
 ],
 "metadata": {},
 "nbformat": 4,
 "nbformat_minor": 5
}
