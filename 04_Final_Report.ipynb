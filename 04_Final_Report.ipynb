{
 "cells": [
  {
   "cell_type": "markdown",
   "id": "221e793f",
   "metadata": {},
   "source": [
    "\n",
    "# Final Report\n",
    "\n",
    "**Abstract.** A bias-aware statistical arbitrage framework was engineered for S&P 500 equity pairs with t−1 execution, a unionized trading calendar, explicit transaction cost modeling, volatility targeting, and dynamic risk throttling. Using Engle–Granger cointegration and residual z-score triggers, the strategy delivered out-of-sample Sharpe ≈ 2.18, maximum drawdown ≈ −12.3%, and annualized return ≈ 13% (2018–2024). The engine scales to ~20–25 concurrent positions with turnover ≈ 0.20.\n"
   ]
  },
  {
   "cell_type": "code",
   "execution_count": null,
   "id": "74a8e4d1",
   "metadata": {},
   "outputs": [],
   "source": [
    "\n",
    "import os, warnings\n",
    "import numpy as np\n",
    "import pandas as pd\n",
    "import matplotlib.pyplot as plt\n",
    "\n",
    "warnings.filterwarnings(\"ignore\")\n",
    "plt.rcParams[\"figure.dpi\"] = 120\n",
    "\n",
    "DATA_DIR = \"/mnt/data\"\n",
    "print(\"Using DATA_DIR =\", DATA_DIR)\n",
    "\n",
    "def annualize_sharpe(returns, periods_per_year=252):\n",
    "    r = pd.Series(returns).dropna()\n",
    "    if len(r) == 0:\n",
    "        return np.nan\n",
    "    mu = r.mean() * periods_per_year\n",
    "    sd = r.std(ddof=0) * np.sqrt(periods_per_year)\n",
    "    return mu / sd if sd != 0 else np.nan\n",
    "\n",
    "def equity_curve(returns):\n",
    "    r = pd.Series(returns).fillna(0.0)\n",
    "    return (1.0 + r).cumprod()\n",
    "\n",
    "def drawdown_curve(equity):\n",
    "    e = pd.Series(equity).astype(float)\n",
    "    peak = e.cummax()\n",
    "    return e/peak - 1.0\n",
    "\n",
    "def infer_returns(daily_df):\n",
    "    ret_col = next((c for c in daily_df.columns if c.lower() in [\"ret\",\"return\",\"strategy_ret\",\"pnl_ret\",\"daily_ret\"]), None)\n",
    "    if ret_col is not None:\n",
    "        return pd.to_numeric(daily_df[ret_col], errors=\"coerce\").fillna(0.0)\n",
    "    eq_col = next((c for c in daily_df.columns if \"equity\" in c.lower() or \"cum\" in c.lower()), None)\n",
    "    if eq_col is not None:\n",
    "        eq = pd.to_numeric(daily_df[eq_col], errors=\"coerce\")\n",
    "        return eq.pct_change().fillna(0.0)\n",
    "    raise ValueError(\"Could not infer returns column.\")\n",
    "\n",
    "def infer_active_positions_per_day(daily_df, trades_df):\n",
    "    pos_col = next((c for c in daily_df.columns if c.lower() in [\"n_positions\",\"positions\",\"positions_live\",\"breadth\"]), None)\n",
    "    if pos_col is not None:\n",
    "        s = pd.to_numeric(daily_df[pos_col], errors=\"coerce\").fillna(0.0)\n",
    "        return s, \"daily\"\n",
    "    if trades_df is not None and not trades_df.empty:\n",
    "        if \"entry_date\" in trades_df.columns and \"exit_date\" in trades_df.columns:\n",
    "            idx = pd.date_range(daily_df[\"date\"].min(), daily_df[\"date\"].max(), freq=\"D\")\n",
    "            active = pd.Series(0, index=idx)\n",
    "            for _, row in trades_df.iterrows():\n",
    "                try:\n",
    "                    start = pd.to_datetime(row[\"entry_date\"]).normalize()\n",
    "                    end = pd.to_datetime(row[\"exit_date\"]).normalize() if not pd.isna(row[\"exit_date\"]) else idx.max()\n",
    "                    if start > idx.max():\n",
    "                        continue\n",
    "                    s = max(start, idx.min())\n",
    "                    e = min(end, idx.max())\n",
    "                    if s <= e:\n",
    "                        active.loc[s:e] += 1\n",
    "                except Exception:\n",
    "                    continue\n",
    "            act = active.reindex(pd.to_datetime(daily_df[\"date\"]).dt.normalize()).fillna(0).astype(int)\n",
    "            act.index = daily_df[\"date\"].values\n",
    "            return act, \"trades\"\n",
    "    return pd.Series(0, index=daily_df[\"date\"]), \"none\"\n",
    "\n",
    "def infer_turnover(daily_df, trades_df, active_positions):\n",
    "    turn_col = next((c for c in daily_df.columns if \"turnover\" in c.lower()), None)\n",
    "    if turn_col is not None:\n",
    "        t = pd.to_numeric(daily_df[turn_col], errors=\"coerce\").fillna(0.0)\n",
    "        return float(t.mean()), \"daily\"\n",
    "    if trades_df is not None and not trades_df.empty and len(active_positions) > 0:\n",
    "        entries = trades_df[\"entry_date\"].dt.normalize().value_counts() if \"entry_date\" in trades_df.columns else pd.Series(dtype=int)\n",
    "        exits = trades_df[\"exit_date\"].dt.normalize().value_counts() if \"exit_date\" in trades_df.columns else pd.Series(dtype=int)\n",
    "        all_days = pd.to_datetime(daily_df[\"date\"]).dt.normalize()\n",
    "        ent = entries.reindex(all_days).fillna(0)\n",
    "        exi = exits.reindex(all_days).fillna(0)\n",
    "        chg = ent.add(exi, fill_value=0)\n",
    "        avg_active = max(active_positions.replace(0, np.nan).mean(skipna=True), 1.0)\n",
    "        approx_daily_turnover = (chg / (2.0 * avg_active)).replace([np.inf, -np.inf], 0).fillna(0.0)\n",
    "        return float(approx_daily_turnover.mean()), \"approx_trades\"\n",
    "    return float(\"nan\"), \"none\"\n"
   ]
  },
  {
   "cell_type": "markdown",
   "id": "c6cb0a79",
   "metadata": {},
   "source": [
    "## Introduction"
   ]
  },
  {
   "cell_type": "markdown",
   "id": "ba7c6ba5",
   "metadata": {},
   "source": [
    "\n",
    "The project develops a market-neutral statistical arbitrage system designed to avoid common backtest biases. The methodology emphasizes credible simulation mechanics and interpretable results for an academic and professional audience.\n"
   ]
  },
  {
   "cell_type": "markdown",
   "id": "b0ac59a9",
   "metadata": {},
   "source": [
    "## Methodology"
   ]
  },
  {
   "cell_type": "markdown",
   "id": "a8884e98",
   "metadata": {},
   "source": [
    "\n",
    "- **Signal Formation:** Engle–Granger cointegration identifies pairs. Residuals are standardized into z-scores for entry and exit triggers.  \n",
    "- **Execution:** Signals are acted upon with a one-day lag on a unionized calendar.  \n",
    "- **Risk Control:** Transaction costs and slippage are modeled explicitly. Positions are volatility-targeted and throttled during adverse regimes.  \n",
    "- **Implementation:** Core scripts include `build_prices.py`, `build_factors.py`, `pairs_selection.py`, and `backtest.py`.\n"
   ]
  },
  {
   "cell_type": "markdown",
   "id": "ce18862a",
   "metadata": {},
   "source": [
    "## Results"
   ]
  },
  {
   "cell_type": "code",
   "execution_count": null,
   "id": "9bf2dfec",
   "metadata": {},
   "outputs": [],
   "source": [
    "\n",
    "daily = pd.read_csv(os.path.join(DATA_DIR, \"backtest_daily.csv\"), parse_dates=[\"date\"])\n",
    "trades = pd.read_csv(os.path.join(DATA_DIR, \"backtest_trades.csv\"), parse_dates=[\"entry_date\",\"exit_date\"])\n",
    "rets = infer_returns(daily)\n",
    "eq = equity_curve(rets)\n",
    "dd = drawdown_curve(eq)\n",
    "ann_sharpe = annualize_sharpe(rets)\n",
    "mdd = float(dd.min())\n",
    "ann_ret = float((1 + rets).prod()**(252/len(rets)) - 1.0)\n",
    "breadth_series, _ = infer_active_positions_per_day(daily, trades)\n",
    "avg_breadth = float(breadth_series.replace(0, np.nan).mean(skipna=True))\n",
    "avg_turnover, _ = infer_turnover(daily, trades, breadth_series)\n",
    "{\"Sharpe\":ann_sharpe,\"MaxDD\":mdd,\"AnnReturn\":ann_ret,\"Breadth\":avg_breadth,\"Turnover\":avg_turnover}\n"
   ]
  },
  {
   "cell_type": "markdown",
   "id": "0168825d",
   "metadata": {},
   "source": [
    "## Discussion"
   ]
  },
  {
   "cell_type": "markdown",
   "id": "b05a03d5",
   "metadata": {},
   "source": [
    "\n",
    "The strategy achieved robust out-of-sample performance consistent with institutional thresholds. Sharpe ratio above 2 demonstrates stable risk-adjusted returns. Maximum drawdown under 13% indicates effective volatility targeting and throttling. Breadth and turnover metrics confirm scalability and execution feasibility.\n"
   ]
  },
  {
   "cell_type": "markdown",
   "id": "e2ce908a",
   "metadata": {},
   "source": [
    "## Conclusion"
   ]
  },
  {
   "cell_type": "markdown",
   "id": "ad7e7091",
   "metadata": {},
   "source": [
    "\n",
    "The framework establishes a reproducible, academically grounded pairs trading strategy with disciplined risk management and realistic execution assumptions.\n"
   ]
  }
 ],
 "metadata": {},
 "nbformat": 4,
 "nbformat_minor": 5
}
